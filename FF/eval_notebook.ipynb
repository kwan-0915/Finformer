{
 "cells": [
  {
   "cell_type": "markdown",
   "source": [
    "## Input result location for each model"
   ],
   "metadata": {
    "collapsed": false
   }
  },
  {
   "cell_type": "code",
   "execution_count": null,
   "outputs": [],
   "source": [
    "import os\n",
    "\n",
    "PATH_LIST = [\n",
    "    'Please fill the path of each model, there should be 5 rounds in each folder',\n",
    "]\n",
    "\n",
    "BASE_PATH_LIST = []\n",
    "for i in PATH_LIST:\n",
    "    tempList = []\n",
    "    exps = os.listdir(i)\n",
    "    exps.remove('meta.yaml')\n",
    "    for j in exps:\n",
    "        tempList.append(i + j + \"/artifacts/\")\n",
    "    BASE_PATH_LIST.append(tempList)\n",
    "BASE_PATH_LIST"
   ],
   "metadata": {
    "collapsed": false
   }
  },
  {
   "cell_type": "markdown",
   "source": [
    "## Extract prediction and ground-truth return rate "
   ],
   "metadata": {
    "collapsed": false
   }
  },
  {
   "cell_type": "code",
   "execution_count": 6,
   "outputs": [
    {
     "name": "stderr",
     "output_type": "stream",
     "text": [
      "[14258:MainThread](2024-02-07 14:41:09,280) INFO - qlib.Initialization - [config.py:416] - default_conf: client.\n",
      "[14258:MainThread](2024-02-07 14:41:09,284) INFO - qlib.Initialization - [__init__.py:74] - qlib successfully initialized based on client settings.\n",
      "[14258:MainThread](2024-02-07 14:41:09,285) INFO - qlib.Initialization - [__init__.py:76] - data_path={'__DEFAULT_FREQ': PosixPath('/data/zuyi/qlib_data/kd/jqdata_new')}\n",
      "[14258:MainThread](2024-02-07 14:41:26,835) INFO - qlib.timer - [log.py:127] - Time cost: 17.547s | Loading data Done\n",
      "/home/zuyi/anaconda3/envs/fusion/lib/python3.8/site-packages/numpy/lib/nanfunctions.py:1095: RuntimeWarning: All-NaN slice encountered\n",
      "  result = np.apply_along_axis(_nanmedian1d, axis, a, overwrite_input)\n",
      "[14258:MainThread](2024-02-07 14:41:57,324) INFO - qlib.timer - [log.py:127] - Time cost: 30.072s | RobustZScoreNorm Done\n",
      "[14258:MainThread](2024-02-07 14:41:57,853) INFO - qlib.timer - [log.py:127] - Time cost: 0.527s | Fillna Done\n",
      "[14258:MainThread](2024-02-07 14:41:58,144) INFO - qlib.timer - [log.py:127] - Time cost: 0.154s | DropnaLabel Done\n",
      "/home/zuyi/anaconda3/envs/fusion/lib/python3.8/site-packages/qlib/data/dataset/processor.py:359: SettingWithCopyWarning: \n",
      "A value is trying to be set on a copy of a slice from a DataFrame.\n",
      "Try using .loc[row_indexer,col_indexer] = value instead\n",
      "\n",
      "See the caveats in the documentation: https://pandas.pydata.org/pandas-docs/stable/user_guide/indexing.html#returning-a-view-versus-a-copy\n",
      "  df[cols] = t\n",
      "[14258:MainThread](2024-02-07 14:41:58,360) INFO - qlib.timer - [log.py:127] - Time cost: 0.215s | CSRankNorm Done\n",
      "[14258:MainThread](2024-02-07 14:41:58,363) INFO - qlib.timer - [log.py:127] - Time cost: 31.526s | fit & process data Done\n",
      "[14258:MainThread](2024-02-07 14:41:58,364) INFO - qlib.timer - [log.py:127] - Time cost: 49.077s | Init data Done\n"
     ]
    },
    {
     "name": "stdout",
     "output_type": "stream",
     "text": [
      "Done.\n"
     ]
    }
   ],
   "source": [
    "import qlib\n",
    "from qlib.contrib.data.handler import Alpha360\n",
    "from qlib.data.dataset.processor import RobustZScoreNorm, Fillna, DropnaLabel, CSRankNorm\n",
    "from qlib.data.dataset import DatasetH, DataHandlerLP\n",
    "import pandas as pd\n",
    "\n",
    "provider_uri = \"Please fill the location of Qlib data\"\n",
    "\n",
    "qlib.init(provider_uri=provider_uri)\n",
    "EXP_VERSION = \"M1\"\n",
    "\n",
    "'''Model Config'''\n",
    "START_TIME = '20180101'\n",
    "END_TIME = '20221231'\n",
    "FIT_START = '20180101'\n",
    "FIT_END = '20221231'\n",
    "VALID_START = '20180101'\n",
    "VALID_END = '20221231'\n",
    "TEST_START = '20180101'\n",
    "TEST_END = '20221231'\n",
    "\n",
    "dh = Alpha360(instruments='csi300jq', start_time=START_TIME, end_time=END_TIME,\n",
    "              fit_start_time=FIT_START,\n",
    "              fit_end_time=FIT_END,\n",
    "              infer_processors=[\n",
    "                  RobustZScoreNorm(fit_start_time=FIT_START, fit_end_time=FIT_END, fields_group=\"feature\",\n",
    "                                   clip_outlier=\"true\"),\n",
    "                  Fillna(fields_group=\"feature\"),\n",
    "              ],\n",
    "              learn_processors=[\n",
    "                  DropnaLabel(),\n",
    "                  CSRankNorm(fields_group=\"label\")\n",
    "              ],\n",
    "              label=([\"Ref($close, -2) / Ref($close, -1) - 1\"], [\"LABEL\"]))\n",
    "ds = DatasetH(handler=dh, segments={\"train\": (FIT_START, FIT_END), \"valid\": (VALID_START, VALID_END), \"test\": (TEST_START, TEST_END)})\n",
    "df_test = ds.prepare(\"test\", col_set=[\"label\"], data_key=DataHandlerLP.DK_L)\n",
    "df_ret = ds.prepare(\"test\", col_set=[\"label\"], data_key=DataHandlerLP.DK_R)\n",
    "\n",
    "for i in BASE_PATH_LIST:\n",
    "    for j in i:\n",
    "        df_ret.to_pickle(j+\"ret.pkl\")\n",
    "\n",
    "for i in BASE_PATH_LIST:\n",
    "    for BASE_PATH in i:\n",
    "        df_score = pd.read_pickle(BASE_PATH+\"pred.pkl\")\n",
    "        df_final = pd.concat([df_test,df_score['score']],axis=1)\n",
    "        df_final.columns = ['label','score']\n",
    "        df_final.to_pickle(BASE_PATH+\"/pred.pkl\")\n",
    "\n",
    "print(\"Done.\")"
   ],
   "metadata": {
    "collapsed": false,
    "ExecuteTime": {
     "end_time": "2024-02-07T06:42:51.878639Z",
     "start_time": "2024-02-07T06:41:07.968138Z"
    }
   }
  },
  {
   "cell_type": "markdown",
   "source": [
    "## Metric Definition"
   ],
   "metadata": {
    "collapsed": false
   }
  },
  {
   "cell_type": "code",
   "execution_count": 7,
   "outputs": [],
   "source": [
    "import numpy as np\n",
    "import pandas as pd\n",
    "from tqdm.auto import tqdm\n",
    "\n",
    "def backtest(fname, **kwargs):\n",
    "    pred = pd.read_pickle(fname) # test period\n",
    "    ic = pred.groupby(level='datetime').apply(lambda x: x.label.corr(x.score))\n",
    "    rank_ic = pred.groupby(level='datetime').apply(lambda x: x.label.corr(x.score, method='spearman'))\n",
    "\n",
    "    return {\n",
    "        'IC': ic.mean(),\n",
    "        'ICIR': ic.mean()/ic.std(),\n",
    "        'RankIC': rank_ic.mean(),\n",
    "        'RankICIR': rank_ic.mean()/rank_ic.std()\n",
    "    }\n",
    "\n",
    "def fmt(x, p=3, scale=1, std=False):\n",
    "    _fmt = '{:.%df}'%p\n",
    "    string = _fmt.format((x.mean() if not isinstance(x, (float, np.floating)) else x) * scale)\n",
    "    if std and len(x) > 1:\n",
    "        string += ' ('+_fmt.format(x.std()*scale)+')'\n",
    "    return string\n",
    "\n",
    "def backtest_multi(files, **kwargs):\n",
    "    res = []\n",
    "    for fname in files:\n",
    "        metric= backtest(fname, **kwargs)\n",
    "        res.append(metric)\n",
    "    res = pd.DataFrame(res)\n",
    "    return {\n",
    "        'IC': fmt(res['IC'], std=True),\n",
    "        'ICIR': fmt(res['ICIR'], std=True),\n",
    "        'RankIC': fmt(res['RankIC'], std=True),\n",
    "        'RankICIR': fmt(res['RankICIR'], std=True),\n",
    "    },''"
   ],
   "metadata": {
    "collapsed": false,
    "ExecuteTime": {
     "end_time": "2024-02-07T06:42:51.921723Z",
     "start_time": "2024-02-07T06:42:51.876641Z"
    }
   }
  },
  {
   "cell_type": "code",
   "execution_count": 8,
   "outputs": [],
   "source": [
    "BASE_PATH_BT = []\n",
    "\n",
    "for i in BASE_PATH_LIST:\n",
    "    tempList = []\n",
    "    for BASE_PATH in i:\n",
    "        tempList.append(BASE_PATH+\"pred.pkl\")\n",
    "    BASE_PATH_BT.append(tempList)\n",
    "\n",
    "exps = {\n",
    "    'Finformer': BASE_PATH_BT[0],\n",
    "    'ALSTM': BASE_PATH_BT[1],\n",
    "    'GAT': BASE_PATH_BT[2],\n",
    "    'HIST': BASE_PATH_BT[3],\n",
    "    'MLP': BASE_PATH_BT[4],\n",
    "    'TCN': BASE_PATH_BT[5],\n",
    "    'TRA+ALSTM': BASE_PATH_BT[6],\n",
    "    'Transformer': BASE_PATH_BT[7],\n",
    "    'CrossFormer': BASE_PATH_BT[8],\n",
    "    'SFM': BASE_PATH_BT[9],\n",
    "    'DTML': BASE_PATH_BT[10],\n",
    "    'THGNN': BASE_PATH_BT[11],\n",
    "}"
   ],
   "metadata": {
    "collapsed": false,
    "ExecuteTime": {
     "end_time": "2024-02-07T06:42:51.972465Z",
     "start_time": "2024-02-07T06:42:51.926740Z"
    }
   }
  },
  {
   "cell_type": "code",
   "execution_count": 9,
   "outputs": [
    {
     "data": {
      "text/plain": "  0%|          | 0/12 [00:00<?, ?it/s]",
      "application/vnd.jupyter.widget-view+json": {
       "version_major": 2,
       "version_minor": 0,
       "model_id": "a98749a3823c483a9e716f97d8955f4c"
      }
     },
     "metadata": {},
     "output_type": "display_data"
    }
   ],
   "source": [
    "res = {\n",
    "    name: backtest_multi(exps[name])\n",
    "    for name in tqdm(exps)\n",
    "}\n",
    "report = pd.DataFrame({\n",
    "    k: v[0]\n",
    "    for k, v in res.items()\n",
    "}).T"
   ],
   "metadata": {
    "collapsed": false,
    "ExecuteTime": {
     "end_time": "2024-02-07T06:44:01.913313Z",
     "start_time": "2024-02-07T06:42:51.972439Z"
    }
   }
  },
  {
   "cell_type": "code",
   "execution_count": 10,
   "outputs": [
    {
     "data": {
      "text/plain": "                        IC           ICIR         RankIC       RankICIR\nFinformer    0.052 (0.002)  0.359 (0.012)  0.050 (0.002)  0.345 (0.013)\nALSTM        0.045 (0.001)  0.339 (0.010)  0.043 (0.001)  0.330 (0.011)\nGAT          0.038 (0.003)  0.250 (0.036)  0.036 (0.004)  0.234 (0.042)\nHIST         0.049 (0.004)  0.293 (0.029)  0.047 (0.004)  0.279 (0.028)\nMLP          0.024 (0.003)  0.186 (0.027)  0.022 (0.003)  0.177 (0.028)\nTCN          0.039 (0.001)  0.289 (0.020)  0.035 (0.001)  0.265 (0.018)\nTRA+ALSTM    0.043 (0.003)  0.338 (0.030)  0.042 (0.003)  0.332 (0.028)\nTransformer  0.023 (0.002)  0.145 (0.015)  0.024 (0.002)  0.154 (0.019)\nCrossFormer  0.040 (0.002)  0.306 (0.026)  0.039 (0.002)  0.301 (0.027)\nSFM          0.037 (0.003)  0.285 (0.023)  0.033 (0.004)  0.251 (0.030)\nDTML         0.042 (0.002)  0.259 (0.015)  0.041 (0.002)  0.257 (0.014)\nTHGNN        0.043 (0.001)  0.317 (0.014)  0.041 (0.001)  0.310 (0.015)",
      "text/html": "<div>\n<style scoped>\n    .dataframe tbody tr th:only-of-type {\n        vertical-align: middle;\n    }\n\n    .dataframe tbody tr th {\n        vertical-align: top;\n    }\n\n    .dataframe thead th {\n        text-align: right;\n    }\n</style>\n<table border=\"1\" class=\"dataframe\">\n  <thead>\n    <tr style=\"text-align: right;\">\n      <th></th>\n      <th>IC</th>\n      <th>ICIR</th>\n      <th>RankIC</th>\n      <th>RankICIR</th>\n    </tr>\n  </thead>\n  <tbody>\n    <tr>\n      <th>Finformer</th>\n      <td>0.052 (0.002)</td>\n      <td>0.359 (0.012)</td>\n      <td>0.050 (0.002)</td>\n      <td>0.345 (0.013)</td>\n    </tr>\n    <tr>\n      <th>ALSTM</th>\n      <td>0.045 (0.001)</td>\n      <td>0.339 (0.010)</td>\n      <td>0.043 (0.001)</td>\n      <td>0.330 (0.011)</td>\n    </tr>\n    <tr>\n      <th>GAT</th>\n      <td>0.038 (0.003)</td>\n      <td>0.250 (0.036)</td>\n      <td>0.036 (0.004)</td>\n      <td>0.234 (0.042)</td>\n    </tr>\n    <tr>\n      <th>HIST</th>\n      <td>0.049 (0.004)</td>\n      <td>0.293 (0.029)</td>\n      <td>0.047 (0.004)</td>\n      <td>0.279 (0.028)</td>\n    </tr>\n    <tr>\n      <th>MLP</th>\n      <td>0.024 (0.003)</td>\n      <td>0.186 (0.027)</td>\n      <td>0.022 (0.003)</td>\n      <td>0.177 (0.028)</td>\n    </tr>\n    <tr>\n      <th>TCN</th>\n      <td>0.039 (0.001)</td>\n      <td>0.289 (0.020)</td>\n      <td>0.035 (0.001)</td>\n      <td>0.265 (0.018)</td>\n    </tr>\n    <tr>\n      <th>TRA+ALSTM</th>\n      <td>0.043 (0.003)</td>\n      <td>0.338 (0.030)</td>\n      <td>0.042 (0.003)</td>\n      <td>0.332 (0.028)</td>\n    </tr>\n    <tr>\n      <th>Transformer</th>\n      <td>0.023 (0.002)</td>\n      <td>0.145 (0.015)</td>\n      <td>0.024 (0.002)</td>\n      <td>0.154 (0.019)</td>\n    </tr>\n    <tr>\n      <th>CrossFormer</th>\n      <td>0.040 (0.002)</td>\n      <td>0.306 (0.026)</td>\n      <td>0.039 (0.002)</td>\n      <td>0.301 (0.027)</td>\n    </tr>\n    <tr>\n      <th>SFM</th>\n      <td>0.037 (0.003)</td>\n      <td>0.285 (0.023)</td>\n      <td>0.033 (0.004)</td>\n      <td>0.251 (0.030)</td>\n    </tr>\n    <tr>\n      <th>DTML</th>\n      <td>0.042 (0.002)</td>\n      <td>0.259 (0.015)</td>\n      <td>0.041 (0.002)</td>\n      <td>0.257 (0.014)</td>\n    </tr>\n    <tr>\n      <th>THGNN</th>\n      <td>0.043 (0.001)</td>\n      <td>0.317 (0.014)</td>\n      <td>0.041 (0.001)</td>\n      <td>0.310 (0.015)</td>\n    </tr>\n  </tbody>\n</table>\n</div>"
     },
     "execution_count": 10,
     "metadata": {},
     "output_type": "execute_result"
    }
   ],
   "source": [
    "report"
   ],
   "metadata": {
    "collapsed": false,
    "ExecuteTime": {
     "end_time": "2024-02-07T06:44:01.914707Z",
     "start_time": "2024-02-07T06:44:01.912825Z"
    }
   }
  }
 ],
 "metadata": {
  "kernelspec": {
   "display_name": "Python 3",
   "language": "python",
   "name": "python3"
  },
  "language_info": {
   "codemirror_mode": {
    "name": "ipython",
    "version": 2
   },
   "file_extension": ".py",
   "mimetype": "text/x-python",
   "name": "python",
   "nbconvert_exporter": "python",
   "pygments_lexer": "ipython2",
   "version": "2.7.6"
  }
 },
 "nbformat": 4,
 "nbformat_minor": 0
}
